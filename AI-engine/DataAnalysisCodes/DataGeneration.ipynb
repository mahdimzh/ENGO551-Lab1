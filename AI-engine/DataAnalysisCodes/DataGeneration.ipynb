{
 "cells": [
  {
   "attachments": {},
   "cell_type": "markdown",
   "metadata": {},
   "source": [
    "### Build Calgary Road Graph and save"
   ]
  },
  {
   "cell_type": "code",
   "execution_count": 1,
   "metadata": {},
   "outputs": [],
   "source": [
    "import osmnx as ox\n",
    "import networkx as nx\n",
    "\n",
    "# Define the location as Calgary, Canada\n",
    "location = \"Calgary, Canada\"\n",
    "\n",
    "# Download the street network for the location\n",
    "graph = ox.graph_from_place(location, network_type=\"drive\")\n"
   ]
  },
  {
   "attachments": {},
   "cell_type": "markdown",
   "metadata": {},
   "source": [
    "### Build Calgary Extreme Weather Graph and save"
   ]
  },
  {
   "cell_type": "code",
   "execution_count": 2,
   "metadata": {},
   "outputs": [],
   "source": [
    "calgary_slope = ox.io.load_graphml('network.graphml')"
   ]
  },
  {
   "cell_type": "code",
   "execution_count": 3,
   "metadata": {},
   "outputs": [],
   "source": [
    "# Iterate over the edges in the graph and multiply their length with grade_abs\n",
    "lenght_dict = nx.get_edge_attributes(calgary_slope, 'length')\n",
    "grade_abs_dict = nx.get_edge_attributes(calgary_slope, 'grade_abs')\n",
    "\n",
    "for u, v, key, data in calgary_slope.edges(keys=True, data=True):\n",
    "    if (u, v) in calgary_slope.edges():\n",
    "        length = float( lenght_dict[(u, v, key)])\n",
    "        grade_abs = float(grade_abs_dict[( u, v, key)])\n",
    "        if grade_abs == 0.000:\n",
    "            grade_abs = 0.0001\n",
    "        data['slopized_length'] = length * grade_abs\n",
    "        calgary_slope.add_edge(u, v, key, **data)"
   ]
  },
  {
   "attachments": {},
   "cell_type": "markdown",
   "metadata": {},
   "source": [
    "### Build Calgary Gas Emmision Graph and save"
   ]
  },
  {
   "cell_type": "code",
   "execution_count": 5,
   "metadata": {},
   "outputs": [
    {
     "name": "stderr",
     "output_type": "stream",
     "text": [
      "C:\\Users\\Hadia\\AppData\\Local\\Temp\\ipykernel_15800\\2841489650.py:2: DtypeWarning: Columns (7) have mixed types. Specify dtype option on import or set low_memory=False.\n",
      "  calgary_trees = pd.read_csv('Public_Trees.csv')\n"
     ]
    }
   ],
   "source": [
    "import pandas as pd\n",
    "calgary_trees = pd.read_csv('Public_Trees.csv')"
   ]
  },
  {
   "cell_type": "code",
   "execution_count": 6,
   "metadata": {},
   "outputs": [],
   "source": [
    "tree_lats = []\n",
    "tree_longs = []\n",
    "for ro in range(len(calgary_trees)):\n",
    "    coordinates = calgary_trees.loc[ro,'POINT'][6:]\n",
    "    # extract the latitude and longitude values as strings\n",
    "    long_str, lat_str = coordinates.strip('()').split()\n",
    "    tree_lats.append(float(lat_str))\n",
    "    tree_longs.append(float(long_str))"
   ]
  },
  {
   "cell_type": "code",
   "execution_count": 21,
   "metadata": {},
   "outputs": [
    {
     "name": "stdout",
     "output_type": "stream",
     "text": [
      "0\n",
      "10000\n",
      "20000\n",
      "30000\n",
      "40000\n",
      "50000\n",
      "60000\n",
      "70000\n",
      "80000\n",
      "90000\n",
      "100000\n",
      "110000\n",
      "120000\n",
      "130000\n",
      "140000\n",
      "150000\n",
      "160000\n",
      "170000\n",
      "180000\n",
      "190000\n",
      "200000\n",
      "210000\n",
      "220000\n",
      "230000\n",
      "240000\n",
      "250000\n",
      "260000\n",
      "270000\n",
      "280000\n",
      "290000\n",
      "300000\n",
      "310000\n",
      "320000\n",
      "330000\n",
      "340000\n",
      "350000\n",
      "360000\n",
      "370000\n",
      "380000\n",
      "390000\n",
      "400000\n",
      "410000\n",
      "420000\n",
      "430000\n",
      "440000\n",
      "450000\n",
      "460000\n",
      "470000\n",
      "480000\n",
      "490000\n",
      "500000\n",
      "510000\n",
      "520000\n",
      "530000\n",
      "540000\n",
      "550000\n"
     ]
    }
   ],
   "source": [
    "import osmnx as ox\n",
    "import geopandas as gpd\n",
    "import numpy as np\n",
    "\n",
    "# Create a GeoDataFrame of the trees with their latitudes and longitudes\n",
    "trees = gpd.GeoDataFrame(geometry=gpd.points_from_xy(tree_lats,tree_longs))\n",
    "\n",
    "# Find the nearest nodes in the graph for each tree location\n",
    "tree_nodes = []\n",
    "tree_edges = []\n",
    "for ro in range(len(tree_lats)):\n",
    "    tree_nodes.append(ox.distance.nearest_nodes(calgary_slope, tree_longs[ro], tree_lats[ro], return_dist=False))\n",
    "    #tree_edges.append(ox.distance.nearest_edges(calgary_slope, tree_longs[ro], tree_lats[ro], return_dist=False))\n",
    "    if ro %10000 == 0:\n",
    "        print(ro)\n"
   ]
  },
  {
   "cell_type": "code",
   "execution_count": 22,
   "metadata": {},
   "outputs": [],
   "source": [
    "import pickle\n",
    "# save the list to a file\n",
    "with open('./mapGraphs/tree_nodes.pkl', 'wb') as f:\n",
    "    pickle.dump(tree_nodes, f)"
   ]
  },
  {
   "cell_type": "code",
   "execution_count": 23,
   "metadata": {},
   "outputs": [],
   "source": [
    "# Create a dictionary that maps each node to the number of trees near it\n",
    "tree_counts = dict(zip(*np.unique(tree_nodes, return_counts=True)))\n"
   ]
  },
  {
   "cell_type": "code",
   "execution_count": 25,
   "metadata": {},
   "outputs": [],
   "source": [
    "# Add the tree count as an attribute to each node in the graph\n",
    "for node, count in tree_counts.items():\n",
    "    calgary_slope.nodes[node]['tree_count'] = count"
   ]
  },
  {
   "cell_type": "code",
   "execution_count": 26,
   "metadata": {},
   "outputs": [],
   "source": [
    "# Iterate through the edges of the graph\n",
    "for u, v, key, data in calgary_slope.edges(keys=True, data=True):\n",
    "    \n",
    "    # Count the total number of trees near the two connected nodes of the edge\n",
    "    tree_count_u = calgary_slope.nodes[u].get('tree_count', 0)\n",
    "    tree_count_v = calgary_slope.nodes[v].get('tree_count', 0)\n",
    "    edge_tree_count = tree_count_u + tree_count_v\n",
    "    \n",
    "    # Add the 'edge_tree_count' attribute to the edge\n",
    "    data['edge_tree_count'] = edge_tree_count\n",
    "    calgary_slope.add_edge(u, v, key, **data)"
   ]
  },
  {
   "cell_type": "code",
   "execution_count": 27,
   "metadata": {},
   "outputs": [],
   "source": [
    "nodes_gdf, edges_gdf = ox.graph_to_gdfs(calgary_slope)"
   ]
  },
  {
   "cell_type": "code",
   "execution_count": null,
   "metadata": {},
   "outputs": [],
   "source": [
    "# Convert edge data to a pandas dataframe\n",
    "edge_data = ox.graph_to_gdfs(calgary_slope, nodes=False, edges=True)\n",
    "\n",
    "# Convert slopized_length to float and edge_tree_count to int\n",
    "edge_data['slopized_length'] = edge_data['slopized_length'].astype(float)\n",
    "edge_data['edge_tree_count'] = edge_data['edge_tree_count'].astype(int)\n",
    "\n",
    "# Replace any zeros with the desired values\n",
    "edge_data['slopized_length'] = edge_data['slopized_length'].replace(0, 0.005)\n",
    "edge_data['edge_tree_count'] = edge_data['edge_tree_count'].replace(0, 1)\n",
    "\n",
    "# Update the edge data in the graph\n",
    "for u, v, key in calgary_slope.edges(keys=True):\n",
    "    if key in edge_data.index and u == edge_data.at[key, 'u'] and v == edge_data.at[key, 'v']:\n",
    "        calgary_slope[u][v][key]['slopized_length'] = edge_data.at[key, 'slopized_length']\n",
    "        calgary_slope[u][v][key]['edge_tree_count'] = edge_data.at[key, 'edge_tree_count']\n",
    "\n",
    "\n"
   ]
  },
  {
   "cell_type": "code",
   "execution_count": null,
   "metadata": {},
   "outputs": [],
   "source": [
    "# Convert edge data to a pandas dataframe\n",
    "edge_data = ox.graph_to_gdfs(calgary_slope, nodes=False, edges=True)\n",
    "\n",
    "edge_data = edge_data.reset_index()\n",
    "for i in range(len(edge_data)):\n",
    "    u = edge_data.iloc[i]['u']\n",
    "    v = edge_data.iloc[i]['v']\n",
    "    key = edge_data.iloc[i]['key']\n",
    "    sl_l = float(edge_data.iloc[i]['slopized_length']) if float(edge_data.iloc[i]['slopized_length']) > 0.0 else 0.005\n",
    "    ed_tr = int(edge_data.iloc[i]['edge_tree_count']) if int(edge_data.iloc[i]['edge_tree_count']) > 0 else 1\n",
    "    calgary_slope[u][v][key]['slopized_length'] = sl_l\n",
    "    calgary_slope[u][v][key]['edge_tree_count'] = 1000 - ed_tr"
   ]
  },
  {
   "attachments": {},
   "cell_type": "markdown",
   "metadata": {},
   "source": [
    "### Works:"
   ]
  },
  {
   "cell_type": "code",
   "execution_count": null,
   "metadata": {},
   "outputs": [],
   "source": [
    "nodes_gdf, edges_gdf = ox.graph_to_gdfs(calgary_slope)\n",
    "edges_gdf['edge_tree_count'] = edges_gdf['edge_tree_count'].astype(int)\n",
    "edges_gdf['slopized_length'] = edges_gdf['slopized_length'].astype(float)"
   ]
  },
  {
   "cell_type": "code",
   "execution_count": null,
   "metadata": {},
   "outputs": [],
   "source": [
    "edges_gdf.dtypes"
   ]
  },
  {
   "cell_type": "code",
   "execution_count": null,
   "metadata": {},
   "outputs": [],
   "source": [
    "# convert the pair of GeoDataFrames to a networkx graph object\n",
    "calgary_slope = ox.graph_from_gdfs(nodes_gdf, edges_gdf)"
   ]
  },
  {
   "cell_type": "code",
   "execution_count": null,
   "metadata": {},
   "outputs": [],
   "source": [
    "# Update the edge data in the graph\n",
    "ox.io.save_graphml(calgary_slope, './mapGraphs/calgary_drive_network_updated.graphml')"
   ]
  },
  {
   "cell_type": "code",
   "execution_count": 29,
   "metadata": {},
   "outputs": [],
   "source": [
    "# Save the graph as a GraphML file\n",
    "#ox.save_graphml(calgary_slope, filepath='./mapGraphs/calgary_drive_network.graphml')"
   ]
  }
 ],
 "metadata": {
  "kernelspec": {
   "display_name": "ox",
   "language": "python",
   "name": "python3"
  },
  "language_info": {
   "codemirror_mode": {
    "name": "ipython",
    "version": 3
   },
   "file_extension": ".py",
   "mimetype": "text/x-python",
   "name": "python",
   "nbconvert_exporter": "python",
   "pygments_lexer": "ipython3",
   "version": "3.11.0"
  },
  "orig_nbformat": 4,
  "vscode": {
   "interpreter": {
    "hash": "3fc4973220dba2a524f40c8b113d584270086c4e10dbdbb64c49c5042172ad46"
   }
  }
 },
 "nbformat": 4,
 "nbformat_minor": 2
}
